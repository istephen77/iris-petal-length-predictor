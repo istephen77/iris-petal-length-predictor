{
 "cells": [
  {
   "cell_type": "code",
   "execution_count": 2,
   "metadata": {},
   "outputs": [],
   "source": [
    "import pandas as pd\n",
    "import numpy as np"
   ]
  },
  {
   "cell_type": "code",
   "execution_count": 4,
   "metadata": {},
   "outputs": [
    {
     "data": {
      "text/html": [
       "<div>\n",
       "<style scoped>\n",
       "    .dataframe tbody tr th:only-of-type {\n",
       "        vertical-align: middle;\n",
       "    }\n",
       "\n",
       "    .dataframe tbody tr th {\n",
       "        vertical-align: top;\n",
       "    }\n",
       "\n",
       "    .dataframe thead th {\n",
       "        text-align: right;\n",
       "    }\n",
       "</style>\n",
       "<table border=\"1\" class=\"dataframe\">\n",
       "  <thead>\n",
       "    <tr style=\"text-align: right;\">\n",
       "      <th></th>\n",
       "      <th>Id</th>\n",
       "      <th>SepalLengthCm</th>\n",
       "      <th>SepalWidthCm</th>\n",
       "      <th>PetalLengthCm</th>\n",
       "      <th>PetalWidthCm</th>\n",
       "      <th>Species</th>\n",
       "    </tr>\n",
       "  </thead>\n",
       "  <tbody>\n",
       "    <tr>\n",
       "      <th>0</th>\n",
       "      <td>1</td>\n",
       "      <td>5.1</td>\n",
       "      <td>3.5</td>\n",
       "      <td>1.4</td>\n",
       "      <td>0.2</td>\n",
       "      <td>Iris-setosa</td>\n",
       "    </tr>\n",
       "    <tr>\n",
       "      <th>1</th>\n",
       "      <td>2</td>\n",
       "      <td>4.9</td>\n",
       "      <td>3.0</td>\n",
       "      <td>1.4</td>\n",
       "      <td>0.2</td>\n",
       "      <td>Iris-setosa</td>\n",
       "    </tr>\n",
       "    <tr>\n",
       "      <th>2</th>\n",
       "      <td>3</td>\n",
       "      <td>4.7</td>\n",
       "      <td>3.2</td>\n",
       "      <td>1.3</td>\n",
       "      <td>0.2</td>\n",
       "      <td>Iris-setosa</td>\n",
       "    </tr>\n",
       "    <tr>\n",
       "      <th>3</th>\n",
       "      <td>4</td>\n",
       "      <td>4.6</td>\n",
       "      <td>3.1</td>\n",
       "      <td>1.5</td>\n",
       "      <td>0.2</td>\n",
       "      <td>Iris-setosa</td>\n",
       "    </tr>\n",
       "    <tr>\n",
       "      <th>4</th>\n",
       "      <td>5</td>\n",
       "      <td>5.0</td>\n",
       "      <td>3.6</td>\n",
       "      <td>1.4</td>\n",
       "      <td>0.2</td>\n",
       "      <td>Iris-setosa</td>\n",
       "    </tr>\n",
       "  </tbody>\n",
       "</table>\n",
       "</div>"
      ],
      "text/plain": [
       "   Id  SepalLengthCm  SepalWidthCm  PetalLengthCm  PetalWidthCm      Species\n",
       "0   1            5.1           3.5            1.4           0.2  Iris-setosa\n",
       "1   2            4.9           3.0            1.4           0.2  Iris-setosa\n",
       "2   3            4.7           3.2            1.3           0.2  Iris-setosa\n",
       "3   4            4.6           3.1            1.5           0.2  Iris-setosa\n",
       "4   5            5.0           3.6            1.4           0.2  Iris-setosa"
      ]
     },
     "execution_count": 4,
     "metadata": {},
     "output_type": "execute_result"
    }
   ],
   "source": [
    "df = pd.read_csv(r'C:\\Users\\steph\\bepec\\Machine Learning\\Stream Lit\\MLSimplePredictionApp\\data\\Iris.csv')\n",
    "df.head()"
   ]
  },
  {
   "cell_type": "code",
   "execution_count": 5,
   "metadata": {},
   "outputs": [],
   "source": [
    "# Dropping the Id column\n",
    "df.drop('Id', axis = 1, inplace = True)\n",
    "  \n",
    "# Renaming the target column into numbers to aid training of the model\n",
    "df['Species']= df['Species'].map({'Iris-setosa':0, 'Iris-versicolor':1, 'Iris-virginica':2})\n",
    "  \n",
    "# splitting the data into the columns which need to be trained(X) and the target column(y)\n",
    "X = df.iloc[:, :-1]\n",
    "y = df.iloc[:, -1]\n",
    "  \n",
    "# splitting data into training and testing data with 30 % of data as testing data respectively\n",
    "from sklearn.model_selection import train_test_split\n",
    "X_train, X_test, y_train, y_test = train_test_split(X, y, test_size = 0.3, random_state = 0)\n",
    "  \n",
    "# importing the random forest classifier model and training it on the dataset\n",
    "from sklearn.ensemble import RandomForestClassifier\n",
    "classifier = RandomForestClassifier()\n",
    "classifier.fit(X_train, y_train)\n",
    "  \n",
    "# predicting on the test dataset\n",
    "y_pred = classifier.predict(X_test)\n",
    "  \n",
    "# finding out the accuracy\n",
    "from sklearn.metrics import accuracy_score\n",
    "score = accuracy_score(y_test, y_pred)"
   ]
  },
  {
   "cell_type": "code",
   "execution_count": 6,
   "metadata": {},
   "outputs": [
    {
     "data": {
      "text/plain": [
       "0.9777777777777777"
      ]
     },
     "execution_count": 6,
     "metadata": {},
     "output_type": "execute_result"
    }
   ],
   "source": [
    "score"
   ]
  },
  {
   "cell_type": "code",
   "execution_count": 7,
   "metadata": {},
   "outputs": [],
   "source": [
    "# pickling the model\n",
    "import pickle\n",
    "pickle_out = open(\"classifier.pkl\", \"wb\")\n",
    "pickle.dump(classifier, pickle_out)\n",
    "pickle_out.close()"
   ]
  },
  {
   "cell_type": "code",
   "execution_count": 8,
   "metadata": {},
   "outputs": [
    {
     "name": "stderr",
     "output_type": "stream",
     "text": [
      "2022-06-21 16:40:09.123 \n",
      "  \u001b[33m\u001b[1mWarning:\u001b[0m to view this Streamlit app on a browser, run it with the following\n",
      "  command:\n",
      "\n",
      "    streamlit run C:\\Users\\steph\\anaconda3\\lib\\site-packages\\ipykernel_launcher.py [ARGUMENTS]\n"
     ]
    }
   ],
   "source": [
    "import pandas as pd\n",
    "import numpy as np\n",
    "import pickle\n",
    "import streamlit as st\n",
    "from PIL import Image\n",
    "  \n",
    "# loading in the model to predict on the data\n",
    "pickle_in = open('classifier.pkl', 'rb')\n",
    "classifier = pickle.load(pickle_in)\n",
    "  \n",
    "def welcome():\n",
    "    return 'welcome all'\n",
    "  \n",
    "# defining the function which will make the prediction using \n",
    "# the data which the user inputs\n",
    "def prediction(sepal_length, sepal_width, petal_length, petal_width):  \n",
    "   \n",
    "    prediction = classifier.predict(\n",
    "        [[sepal_length, sepal_width, petal_length, petal_width]])\n",
    "    print(prediction)\n",
    "    return prediction\n",
    "      \n",
    "  \n",
    "# this is the main function in which we define our webpage \n",
    "def main():\n",
    "      # giving the webpage a title\n",
    "    st.title(\"Iris Flower Prediction\")\n",
    "      \n",
    "    # here we define some of the front end elements of the web page like \n",
    "    # the font and background color, the padding and the text to be displayed\n",
    "    html_temp = \"\"\"\n",
    "    <div style =\"background-color:yellow;padding:13px\">\n",
    "    <h1 style =\"color:black;text-align:center;\">Streamlit Iris Flower Classifier ML App </h1>\n",
    "    </div>\n",
    "    \"\"\"\n",
    "      \n",
    "    # this line allows us to display the front end aspects we have \n",
    "    # defined in the above code\n",
    "    st.markdown(html_temp, unsafe_allow_html = True)\n",
    "      \n",
    "    # the following lines create text boxes in which the user can enter \n",
    "    # the data required to make the prediction\n",
    "    sepal_length = st.text_input(\"Sepal Length\", \"Type Here\")\n",
    "    sepal_width = st.text_input(\"Sepal Width\", \"Type Here\")\n",
    "    petal_length = st.text_input(\"Petal Length\", \"Type Here\")\n",
    "    petal_width = st.text_input(\"Petal Width\", \"Type Here\")\n",
    "    result =\"\"\n",
    "      \n",
    "    # the below line ensures that when the button called 'Predict' is clicked, \n",
    "    # the prediction function defined above is called to make the prediction \n",
    "    # and store it in the variable result\n",
    "    if st.button(\"Predict\"):\n",
    "        result = prediction(sepal_length, sepal_width, petal_length, petal_width)\n",
    "    st.success('The output is {}'.format(result))\n",
    "     \n",
    "if __name__=='__main__':\n",
    "    main()"
   ]
  },
  {
   "cell_type": "code",
   "execution_count": null,
   "metadata": {},
   "outputs": [],
   "source": []
  }
 ],
 "metadata": {
  "kernelspec": {
   "display_name": "Python 3 (ipykernel)",
   "language": "python",
   "name": "python3"
  },
  "language_info": {
   "codemirror_mode": {
    "name": "ipython",
    "version": 3
   },
   "file_extension": ".py",
   "mimetype": "text/x-python",
   "name": "python",
   "nbconvert_exporter": "python",
   "pygments_lexer": "ipython3",
   "version": "3.9.7"
  },
  "toc": {
   "base_numbering": 1,
   "nav_menu": {},
   "number_sections": true,
   "sideBar": true,
   "skip_h1_title": false,
   "title_cell": "Table of Contents",
   "title_sidebar": "Contents",
   "toc_cell": false,
   "toc_position": {},
   "toc_section_display": true,
   "toc_window_display": false
  }
 },
 "nbformat": 4,
 "nbformat_minor": 2
}
